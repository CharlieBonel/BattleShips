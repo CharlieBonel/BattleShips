{
 "cells": [
  {
   "cell_type": "markdown",
   "metadata": {},
   "source": [
    "This script simulates a game of battleships. It creates an n x n grid and asks the player to input their ship positions into the grid. It then asks the user to select a tile and tells the user if the tile was a hit or a miss."
   ]
  },
  {
   "cell_type": "markdown",
   "metadata": {},
   "source": [
    "This script uses numpy, string and re packages that are imported. Numpy is to work with arrays, string is to generate an alphabet string, and re is for regex validation."
   ]
  },
  {
   "cell_type": "code",
   "execution_count": 5,
   "metadata": {},
   "outputs": [],
   "source": [
    "# importing numpy\n",
    "import numpy as np\n",
    "# importing string to generate an alphabet string\n",
    "import string\n",
    "# importing regex for input validation\n",
    "import re"
   ]
  },
  {
   "cell_type": "markdown",
   "metadata": {},
   "source": [
    "This part of the script is where the user selects their boat positions. It asks the user to select their boat position and orientation out of the pre-defined boats allows (two 1's, two 2's and a 3). It only stops once all the boats have been placed in eligible positions. It does not allow co-ordinates that are invalid, either because they aren't allowed or the boat would be out of bounds or where another boat is."
   ]
  },
  {
   "cell_type": "code",
   "execution_count": 6,
   "metadata": {},
   "outputs": [
    {
     "name": "stdout",
     "output_type": "stream",
     "text": [
      "[[1. 1. 1. 1. 0. 0. 0. 0. 0.]\n",
      " [0. 0. 0. 0. 0. 0. 0. 0. 0.]\n",
      " [0. 0. 0. 0. 0. 0. 0. 0. 0.]\n",
      " [0. 0. 0. 0. 0. 0. 0. 0. 0.]\n",
      " [0. 0. 0. 0. 0. 0. 0. 0. 0.]\n",
      " [0. 0. 0. 0. 0. 0. 0. 0. 0.]\n",
      " [0. 0. 0. 0. 0. 0. 0. 0. 0.]\n",
      " [0. 0. 0. 0. 0. 0. 0. 0. 0.]\n",
      " [0. 0. 0. 0. 0. 0. 0. 0. 0.]]\n"
     ]
    }
   ],
   "source": [
    "# Creating a 5 x 5 grid. This will be a list of 5 zeroes, added to a list 5 times. This simulates a 5 x 5 grid.\n",
    "n = 9\n",
    "board = np.zeros((n,n))\n",
    "# using an alphabet string to convert letter input into index value\n",
    "alphabet = string.ascii_uppercase\n",
    "# allowing boats of different sizes (starting with a 1 and 2)\n",
    "boats = [1,1,2,2,3]\n",
    "# set the number of boats to be selected\n",
    "no_of_boats = len(boats)\n",
    "# getting the user to select the 3 positions for the boat\n",
    "boat_counter = 0\n",
    "while boat_counter < no_of_boats:\n",
    "    # specifying the current boat\n",
    "    current_boat = boats[boat_counter]\n",
    "    if current_boat != 1:\n",
    "        # getting the user to specify the boat orientation\n",
    "        boat_orientation = input(\"Please choose whether to put the boat horizontally (1) or vertically (2)\")\n",
    "        # validating the input to ensure that it does not break\n",
    "        while not re.match(\"\\\\b[1-2]\\\\b\",str(boat_orientation)):\n",
    "            print('Please select 1 for horizontal or 2 for vertical')\n",
    "            boat_orientation = input(\"Please choose whether to put the boat horizontally (1) or vertically (2)\")\n",
    "    else: boat_orientation = 1\n",
    "    # getting the user to specify the position of each boat\n",
    "    boat_position = input(\"Please enter the co-ordinates of boat \" + str(boat_counter+1) + \" of size \" + str(boats[boat_counter]) + \". For example, enter A1 for the top left voxel.\").upper()\n",
    "    boat_valiation = \"[A-\" + str(alphabet[n-1].upper()) + \"]{1}[1-\" +str(n) + \"]{1}\"\n",
    "    # validating the input\n",
    "    while not re.match(boat_valiation,boat_position):\n",
    "        print(\"Ensure that your co-ordinates are in the form A1, where the first character is between A and \" + alphabet[n-1] +\" and the second is between 1 and \" + str(n))\n",
    "        boat_position = input(\"Please enter the position of boat \" + str(boat_counter+1) + \" of size \" + str(boats[boat_counter]) + \". For example, enter A1 for the top left voxel.\").upper()\n",
    "    boat_position_y = boat_position[0]\n",
    "    boat_position_x = boat_position[1]\n",
    "    #boat_position_y = input(\"Please enter the y co-ordinate of boat \" + str(boat_counter + 1) + \" between A and \" + alphabet[n-1] +\":\").upper()\n",
    "    #boat_position_x = input(\"Please enter the x co-ordinate of boat \" + str(boat_counter + 1) + \" between 1 and \" + str(n) +\":\")\n",
    "    # calculating the first and last index values of the boat\n",
    "    boat_position_x1 = int(boat_position_x) - 1\n",
    "    boat_position_y1 = alphabet.index(boat_position_y)\n",
    "    if int(boat_orientation) == 1:\n",
    "        boat_position_x2 = boat_position_x1 + current_boat - 1\n",
    "        boat_position_y2 = boat_position_y1\n",
    "    else:\n",
    "        boat_position_x2 = boat_position_x1\n",
    "        boat_position_y2 = boat_position_y1 + current_boat - 1\n",
    "    # first checking that the boat is in bounds\n",
    "    if boat_position_x2 > n - 1 or boat_position_y2 > n - 1 :\n",
    "        print(\"The boat is out of the boundary of the board.\")\n",
    "    # checking if the boat is going to clash with another boat\n",
    "    elif 1 in board[boat_position_y1:boat_position_y2+1][boat_position_x1:boat_position_x2+1]:\n",
    "        print(\"There is already a boat at that position\")\n",
    "    # if the choice is empty, place the boat in that place and increase the boat counter. Otherwise, prompt the user to select again\n",
    "    else:\n",
    "        if int(boat_orientation) == 1:\n",
    "            board[boat_position_y1][boat_position_x1:boat_position_x2+1] = 1\n",
    "        else:\n",
    "            for row in range(boat_position_y1,boat_position_y2+1):\n",
    "                board[row][boat_position_x1] = 1\n",
    "        boat_counter += 1\n",
    "print(board)"
   ]
  },
  {
   "cell_type": "markdown",
   "metadata": {},
   "source": [
    "This part of the script is for the user to take attempts to hit a boat. Like the above, if the input is invalid then the user needs to select the co-ordinates again. The script only ends when all boats have been destroyed."
   ]
  },
  {
   "cell_type": "code",
   "execution_count": 8,
   "metadata": {},
   "outputs": [
    {
     "name": "stdout",
     "output_type": "stream",
     "text": [
      "You hit a boat!\n",
      "You hit a boat!\n",
      "You hit a boat!\n",
      "You hit a boat!\n",
      "You won! You destroyed all of the ships in 4 turns.\n"
     ]
    }
   ],
   "source": [
    "# get the user to select a square and see if it is a hit\n",
    "hit_counter = 0\n",
    "turn_counter = 0\n",
    "while hit_counter < sum(boats):\n",
    "    # getting the user to specify the position of a strike\n",
    "    boat_position = input(\"Please enter the co-ordinates that you would like to hit where the first character is between A and \" + alphabet[n-1] +\" and the second is between 1 and \" + str(n)).upper()\n",
    "    # validating the input\n",
    "    while not re.match(boat_valiation,boat_position):\n",
    "        print(\"Ensure that your co-ordinates are in the form A1, where the first character is between A and \" + alphabet[n-1] +\" and the second is between 1 and \" + str(n))\n",
    "        boat_position = input(\"Please enter the co-ordinates that you would like to hit where the first character is between A and \" + alphabet[n-1] +\" and the second is between 1 and \" + str(n)).upper()\n",
    "    boat_position_y = boat_position[0]\n",
    "    boat_position_x = boat_position[1]\n",
    "    # converting to index values\n",
    "    boat_position_x_int = int(boat_position_x) - 1\n",
    "    boat_position_y_int = alphabet.index(boat_position_y)\n",
    "    # outputting the appropriate message when a chice is made. If a hit is made, increase the hit counter.\n",
    "    if board[boat_position_y_int][boat_position_x_int] == 1:\n",
    "        print(\"You hit a boat!\")\n",
    "        hit_counter += 1\n",
    "        board[boat_position_y_int][boat_position_x_int] = 2\n",
    "    elif board[boat_position_y_int][boat_position_x_int] == 2:\n",
    "        print(\"You already hit that square.\")\n",
    "    elif board[boat_position_y_int][boat_position_x_int] == 0:\n",
    "        print(\"You missed.\")\n",
    "        board[boat_position_y_int][boat_position_x_int] = 2\n",
    "    turn_counter += 1\n",
    "\n",
    "print(\"You won! You destroyed all of the ships in \" + str(turn_counter) + \" turns.\")"
   ]
  }
 ],
 "metadata": {
  "kernelspec": {
   "display_name": "Python 3",
   "language": "python",
   "name": "python3"
  },
  "language_info": {
   "codemirror_mode": {
    "name": "ipython",
    "version": 3
   },
   "file_extension": ".py",
   "mimetype": "text/x-python",
   "name": "python",
   "nbconvert_exporter": "python",
   "pygments_lexer": "ipython3",
   "version": "3.10.1"
  }
 },
 "nbformat": 4,
 "nbformat_minor": 2
}
